{
  "nbformat": 4,
  "nbformat_minor": 0,
  "metadata": {
    "colab": {
      "provenance": [],
      "authorship_tag": "ABX9TyMuzyLrco28oNOb3tO8310q",
      "include_colab_link": true
    },
    "kernelspec": {
      "name": "python3",
      "display_name": "Python 3"
    },
    "language_info": {
      "name": "python"
    }
  },
  "cells": [
    {
      "cell_type": "markdown",
      "metadata": {
        "id": "view-in-github",
        "colab_type": "text"
      },
      "source": [
        "<a href=\"https://colab.research.google.com/github/newmantic/volatility_swap/blob/main/volatility_swap.ipynb\" target=\"_parent\"><img src=\"https://colab.research.google.com/assets/colab-badge.svg\" alt=\"Open In Colab\"/></a>"
      ]
    },
    {
      "cell_type": "code",
      "execution_count": 1,
      "metadata": {
        "colab": {
          "base_uri": "https://localhost:8080/"
        },
        "id": "mKJdg_GhZOeU",
        "outputId": "87ca39fb-5753-46c9-8813-6554d4a2c336"
      },
      "outputs": [
        {
          "output_type": "stream",
          "name": "stdout",
          "text": [
            "Expected Payoff: 0.0198\n"
          ]
        }
      ],
      "source": [
        "import numpy as np\n",
        "\n",
        "class VolatilitySwap:\n",
        "    def __init__(self, initial_price, strike_volatility, maturity, risk_free_rate):\n",
        "        self.initial_price = initial_price\n",
        "        self.strike_volatility = strike_volatility\n",
        "        self.maturity = maturity\n",
        "        self.risk_free_rate = risk_free_rate\n",
        "\n",
        "    def simulate_price_path(self, n_steps, n_scenarios, volatility):\n",
        "        dt = self.maturity / n_steps\n",
        "        price_paths = np.zeros((n_steps + 1, n_scenarios))\n",
        "        price_paths[0] = self.initial_price\n",
        "\n",
        "        for t in range(1, n_steps + 1):\n",
        "            z = np.random.standard_normal(n_scenarios)\n",
        "            price_paths[t] = price_paths[t - 1] * np.exp((self.risk_free_rate - 0.5 * volatility ** 2) * dt + volatility * np.sqrt(dt) * z)\n",
        "\n",
        "        return price_paths\n",
        "\n",
        "    def calculate_realized_volatility(self, price_path):\n",
        "        log_returns = np.diff(np.log(price_path), axis=0)\n",
        "        realized_volatility = np.sqrt(np.mean(log_returns ** 2)) * np.sqrt(252)  # Annualize volatility assuming 252 trading days\n",
        "        return realized_volatility\n",
        "\n",
        "    def calculate_payoff(self, price_paths):\n",
        "        realized_volatilities = np.array([self.calculate_realized_volatility(price_paths[:, i]) for i in range(price_paths.shape[1])])\n",
        "        return np.mean(realized_volatilities - self.strike_volatility)\n",
        "\n",
        "    def run_simulation(self, n_steps=252, n_scenarios=10000, volatility=0.2):\n",
        "        price_paths = self.simulate_price_path(n_steps, n_scenarios, volatility)\n",
        "        payoff = self.calculate_payoff(price_paths)\n",
        "        return payoff\n",
        "\n",
        "# Example usage\n",
        "if __name__ == \"__main__\":\n",
        "    swap = VolatilitySwap(\n",
        "        initial_price=100,\n",
        "        strike_volatility=0.18,\n",
        "        maturity=1,\n",
        "        risk_free_rate=0.02\n",
        "    )\n",
        "\n",
        "    expected_payoff = swap.run_simulation()\n",
        "    print(f\"Expected Payoff: {expected_payoff:.4f}\")\n"
      ]
    }
  ]
}